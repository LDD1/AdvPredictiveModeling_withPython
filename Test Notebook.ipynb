{
 "cells": [
  {
   "cell_type": "markdown",
   "metadata": {},
   "source": [
    "Click into the grey part of the following cell, then run it by clicking \"Cell >> Run\" or the play button up above."
   ]
  },
  {
   "cell_type": "code",
   "execution_count": null,
   "metadata": {
    "collapsed": false
   },
   "outputs": [],
   "source": [
    "import numpy;   print 'numpy:  ', numpy.__version__\n",
    "import scipy;   print 'scipy:  ', scipy.__version__\n",
    "import pandas;  print 'pandas: ', pandas.__version__\n",
    "import sklearn; print 'sklearn:', sklearn.__version__"
   ]
  },
  {
   "cell_type": "markdown",
   "metadata": {},
   "source": [
    "The output should be something like this:\n",
    "\n",
    "`\n",
    "numpy:   1.10.4\n",
    "scipy:   0.16.1\n",
    "pandas:  0.17.1\n",
    "sklearn: 0.17\n",
    "`\n",
    "\n",
    "If it isn't, raise your hand."
   ]
  }
 ],
 "metadata": {
  "kernelspec": {
   "display_name": "Python 2",
   "language": "python",
   "name": "python2"
  },
  "language_info": {
   "codemirror_mode": {
    "name": "ipython",
    "version": 2
   },
   "file_extension": ".py",
   "mimetype": "text/x-python",
   "name": "python",
   "nbconvert_exporter": "python",
   "pygments_lexer": "ipython2",
   "version": "2.7.11"
  }
 },
 "nbformat": 4,
 "nbformat_minor": 0
}
